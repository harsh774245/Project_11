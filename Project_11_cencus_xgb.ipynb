{
 "cells": [
  {
   "cell_type": "code",
   "execution_count": 2,
   "metadata": {},
   "outputs": [],
   "source": [
    "import numpy as np\n",
    "import pandas as pd\n",
    "import seaborn as sns \n",
    "import matplotlib.pyplot as plt\n",
    "%matplotlib inline\n",
    "import scipy.stats as st\n",
    "import warnings\n",
    "warnings.filterwarnings('ignore')\n",
    "pd.set_option('display.max_rows', 1000)\n",
    "pd.set_option('display.max_columns', 100)\n",
    "pd.set_option('display.width',1000)"
   ]
  },
  {
   "cell_type": "code",
   "execution_count": 3,
   "metadata": {},
   "outputs": [
    {
     "data": {
      "text/html": [
       "<div>\n",
       "<style scoped>\n",
       "    .dataframe tbody tr th:only-of-type {\n",
       "        vertical-align: middle;\n",
       "    }\n",
       "\n",
       "    .dataframe tbody tr th {\n",
       "        vertical-align: top;\n",
       "    }\n",
       "\n",
       "    .dataframe thead th {\n",
       "        text-align: right;\n",
       "    }\n",
       "</style>\n",
       "<table border=\"1\" class=\"dataframe\">\n",
       "  <thead>\n",
       "    <tr style=\"text-align: right;\">\n",
       "      <th></th>\n",
       "      <th>age</th>\n",
       "      <th>workclass</th>\n",
       "      <th>fnlwgt</th>\n",
       "      <th>edu</th>\n",
       "      <th>edunum</th>\n",
       "      <th>maritalstatus</th>\n",
       "      <th>occupation</th>\n",
       "      <th>relationship</th>\n",
       "      <th>race</th>\n",
       "      <th>sex</th>\n",
       "      <th>capgain</th>\n",
       "      <th>caploss</th>\n",
       "      <th>hoursperweek</th>\n",
       "      <th>nativecountry</th>\n",
       "      <th>target</th>\n",
       "    </tr>\n",
       "  </thead>\n",
       "  <tbody>\n",
       "    <tr>\n",
       "      <td>0</td>\n",
       "      <td>39</td>\n",
       "      <td>State-gov</td>\n",
       "      <td>77516</td>\n",
       "      <td>Bachelors</td>\n",
       "      <td>13</td>\n",
       "      <td>Never-married</td>\n",
       "      <td>Adm-clerical</td>\n",
       "      <td>Not-in-family</td>\n",
       "      <td>White</td>\n",
       "      <td>Male</td>\n",
       "      <td>2174</td>\n",
       "      <td>0</td>\n",
       "      <td>40</td>\n",
       "      <td>United-States</td>\n",
       "      <td>&lt;=50K</td>\n",
       "    </tr>\n",
       "    <tr>\n",
       "      <td>1</td>\n",
       "      <td>50</td>\n",
       "      <td>Self-emp-not-inc</td>\n",
       "      <td>83311</td>\n",
       "      <td>Bachelors</td>\n",
       "      <td>13</td>\n",
       "      <td>Married-civ-spouse</td>\n",
       "      <td>Exec-managerial</td>\n",
       "      <td>Husband</td>\n",
       "      <td>White</td>\n",
       "      <td>Male</td>\n",
       "      <td>0</td>\n",
       "      <td>0</td>\n",
       "      <td>13</td>\n",
       "      <td>United-States</td>\n",
       "      <td>&lt;=50K</td>\n",
       "    </tr>\n",
       "    <tr>\n",
       "      <td>2</td>\n",
       "      <td>38</td>\n",
       "      <td>Private</td>\n",
       "      <td>215646</td>\n",
       "      <td>HS-grad</td>\n",
       "      <td>9</td>\n",
       "      <td>Divorced</td>\n",
       "      <td>Handlers-cleaners</td>\n",
       "      <td>Not-in-family</td>\n",
       "      <td>White</td>\n",
       "      <td>Male</td>\n",
       "      <td>0</td>\n",
       "      <td>0</td>\n",
       "      <td>40</td>\n",
       "      <td>United-States</td>\n",
       "      <td>&lt;=50K</td>\n",
       "    </tr>\n",
       "    <tr>\n",
       "      <td>3</td>\n",
       "      <td>53</td>\n",
       "      <td>Private</td>\n",
       "      <td>234721</td>\n",
       "      <td>11th</td>\n",
       "      <td>7</td>\n",
       "      <td>Married-civ-spouse</td>\n",
       "      <td>Handlers-cleaners</td>\n",
       "      <td>Husband</td>\n",
       "      <td>Black</td>\n",
       "      <td>Male</td>\n",
       "      <td>0</td>\n",
       "      <td>0</td>\n",
       "      <td>40</td>\n",
       "      <td>United-States</td>\n",
       "      <td>&lt;=50K</td>\n",
       "    </tr>\n",
       "    <tr>\n",
       "      <td>4</td>\n",
       "      <td>28</td>\n",
       "      <td>Private</td>\n",
       "      <td>338409</td>\n",
       "      <td>Bachelors</td>\n",
       "      <td>13</td>\n",
       "      <td>Married-civ-spouse</td>\n",
       "      <td>Prof-specialty</td>\n",
       "      <td>Wife</td>\n",
       "      <td>Black</td>\n",
       "      <td>Female</td>\n",
       "      <td>0</td>\n",
       "      <td>0</td>\n",
       "      <td>40</td>\n",
       "      <td>Cuba</td>\n",
       "      <td>&lt;=50K</td>\n",
       "    </tr>\n",
       "  </tbody>\n",
       "</table>\n",
       "</div>"
      ],
      "text/plain": [
       "   age          workclass  fnlwgt         edu  edunum        maritalstatus          occupation    relationship    race      sex  capgain  caploss  hoursperweek   nativecountry  target\n",
       "0   39          State-gov   77516   Bachelors      13        Never-married        Adm-clerical   Not-in-family   White     Male     2174        0            40   United-States   <=50K\n",
       "1   50   Self-emp-not-inc   83311   Bachelors      13   Married-civ-spouse     Exec-managerial         Husband   White     Male        0        0            13   United-States   <=50K\n",
       "2   38            Private  215646     HS-grad       9             Divorced   Handlers-cleaners   Not-in-family   White     Male        0        0            40   United-States   <=50K\n",
       "3   53            Private  234721        11th       7   Married-civ-spouse   Handlers-cleaners         Husband   Black     Male        0        0            40   United-States   <=50K\n",
       "4   28            Private  338409   Bachelors      13   Married-civ-spouse      Prof-specialty            Wife   Black   Female        0        0            40            Cuba   <=50K"
      ]
     },
     "execution_count": 3,
     "metadata": {},
     "output_type": "execute_result"
    }
   ],
   "source": [
    "colnames=['age','workclass','fnlwgt','edu','edunum','maritalstatus','occupation','relationship',\n",
    "         'race','sex','capgain','caploss','hoursperweek','nativecountry','target']\n",
    "cen=pd.read_csv('census.csv',header=None,names=colnames)\n",
    "cen.head()"
   ]
  },
  {
   "cell_type": "code",
   "execution_count": 4,
   "metadata": {},
   "outputs": [],
   "source": [
    "cen['target']=cen['target'].str.replace('<=50K','0')"
   ]
  },
  {
   "cell_type": "code",
   "execution_count": 5,
   "metadata": {},
   "outputs": [],
   "source": [
    "cen['target']=cen['target'].str.replace('>50K','1')"
   ]
  },
  {
   "cell_type": "code",
   "execution_count": 6,
   "metadata": {},
   "outputs": [
    {
     "data": {
      "text/plain": [
       "dtype('int64')"
      ]
     },
     "execution_count": 6,
     "metadata": {},
     "output_type": "execute_result"
    }
   ],
   "source": [
    "cen['target']=cen['target'].astype(np.int64)\n",
    "cen['target'].dtype"
   ]
  },
  {
   "cell_type": "code",
   "execution_count": 7,
   "metadata": {},
   "outputs": [],
   "source": [
    "# let's make a copy of data and apply feature binning\n",
    "cencopy=cen.copy()"
   ]
  },
  {
   "cell_type": "code",
   "execution_count": 8,
   "metadata": {},
   "outputs": [],
   "source": [
    "df=cencopy['workclass'].value_counts()  \n",
    "for i in range(len(df)):\n",
    "    if df[i] < 1000:\n",
    "        str=df.index[i]\n",
    "        cencopy['workclass']=cencopy['workclass'].str.replace(str,'Rare')"
   ]
  },
  {
   "cell_type": "code",
   "execution_count": 9,
   "metadata": {},
   "outputs": [],
   "source": [
    "df=cencopy['edu'].value_counts()  \n",
    "for i in range(len(df)):\n",
    "    if df[i] < 930:\n",
    "        str=df.index[i]\n",
    "        cencopy['edu']=cencopy['edu'].str.replace(str,'Rare')"
   ]
  },
  {
   "cell_type": "code",
   "execution_count": 10,
   "metadata": {},
   "outputs": [],
   "source": [
    "# edunum and edu are same, edunum is just label encoder of edu\n",
    "df=cencopy['edunum'].value_counts()  \n",
    "for i in range(len(df)):\n",
    "    if df.iloc[i] < 930:\n",
    "        original=df.index[i]\n",
    "        cencopy['edunum']=cencopy['edunum'].replace(original,0)"
   ]
  },
  {
   "cell_type": "code",
   "execution_count": 11,
   "metadata": {},
   "outputs": [],
   "source": [
    "df=cencopy['maritalstatus'].value_counts()  \n",
    "for i in range(len(df)):\n",
    "    if df[i] < 1000:\n",
    "        original=df.index[i]\n",
    "        cencopy['maritalstatus']=cencopy['maritalstatus'].str.replace(original,'Rare')"
   ]
  },
  {
   "cell_type": "code",
   "execution_count": 12,
   "metadata": {},
   "outputs": [],
   "source": [
    "df=cencopy['occupation'].value_counts()  \n",
    "for i in range(len(df)):\n",
    "    if df[i] < 1000:\n",
    "        original=df.index[i]\n",
    "        cencopy['occupation']=cencopy['occupation'].str.replace(original,'Rare')"
   ]
  },
  {
   "cell_type": "code",
   "execution_count": 13,
   "metadata": {},
   "outputs": [],
   "source": [
    "df=cencopy['relationship'].value_counts()  \n",
    "for i in range(len(df)):\n",
    "    if df[i] < 2000:\n",
    "        original=df.index[i]\n",
    "        cencopy['relationship']=cencopy['relationship'].str.replace(original,'Rare')"
   ]
  },
  {
   "cell_type": "code",
   "execution_count": 14,
   "metadata": {},
   "outputs": [],
   "source": [
    "df=cencopy['race'].value_counts()  \n",
    "for i in range(len(df)):\n",
    "    if df[i] < 2000:\n",
    "        original=df.index[i]\n",
    "        cencopy['race']=cencopy['race'].str.replace(original,'Rare')"
   ]
  },
  {
   "cell_type": "code",
   "execution_count": 15,
   "metadata": {},
   "outputs": [],
   "source": [
    "df=cencopy['nativecountry'].value_counts()  \n",
    "for i in range(len(df)):\n",
    "    if df[i] < 200:\n",
    "        original=df.index[i]\n",
    "        cencopy['nativecountry']=cencopy['nativecountry'].str.replace(original,'Rare')"
   ]
  },
  {
   "cell_type": "code",
   "execution_count": 16,
   "metadata": {},
   "outputs": [],
   "source": [
    "from sklearn.preprocessing import LabelEncoder\n",
    "def le(df,col):\n",
    "    lab=LabelEncoder()\n",
    "    df[col]=pd.Series(lab.fit_transform(df[col]))"
   ]
  },
  {
   "cell_type": "code",
   "execution_count": 17,
   "metadata": {},
   "outputs": [],
   "source": [
    "# we'll first drop edu, as it's already encoded\n",
    "cencopy.drop('edu',axis=1,inplace=True)"
   ]
  },
  {
   "cell_type": "code",
   "execution_count": 18,
   "metadata": {},
   "outputs": [],
   "source": [
    "le(cencopy,'workclass')\n",
    "le(cencopy,'maritalstatus')\n",
    "le(cencopy,'occupation')\n",
    "le(cencopy,'relationship')\n",
    "le(cencopy,'race')\n",
    "le(cencopy,'sex')\n",
    "le(cencopy,'nativecountry')"
   ]
  },
  {
   "cell_type": "code",
   "execution_count": 19,
   "metadata": {},
   "outputs": [],
   "source": [
    "# using IQR method\n",
    "def outlier(df):\n",
    "    Q1 = df.quantile(0.25)\n",
    "    Q3 = df.quantile(0.75)\n",
    "    IQR = Q3 - Q1\n",
    "    df_out=(df < (Q1 - 1.5 * IQR)) | (df > (Q3 + 1.5 * IQR))\n",
    "    return(df_out.sum())\n",
    "\n",
    "def lower(df,col):\n",
    "    Q1 = df[col].quantile(0.25)\n",
    "    Q3 = df[col].quantile(0.75)\n",
    "    IQR = Q3 - Q1\n",
    "    lower=Q1 - 1.5 * IQR\n",
    "    return lower\n",
    "\n",
    "def upper(df,col):\n",
    "    Q1 = df[col].quantile(0.25)\n",
    "    Q3 = df[col].quantile(0.75)\n",
    "    IQR = Q3 - Q1\n",
    "    upper=Q3 + 1.5 * IQR\n",
    "    return upper\n",
    "\n",
    "def remove_outlier(df,col):\n",
    "    for i in range(df.shape[0]):\n",
    "        if (df[col].iloc[i])>upper(df,col):\n",
    "            df[col].iloc[i]=upper(df,col)\n",
    "        elif (df[col].iloc[i])<lower(df,col):\n",
    "            df[col].iloc[i]=lower(df,col)"
   ]
  },
  {
   "cell_type": "code",
   "execution_count": 20,
   "metadata": {},
   "outputs": [
    {
     "data": {
      "text/plain": [
       "age               143\n",
       "workclass        9865\n",
       "fnlwgt            992\n",
       "edunum           3134\n",
       "maritalstatus    1434\n",
       "occupation          0\n",
       "relationship        0\n",
       "race             4745\n",
       "sex                 0\n",
       "capgain          2712\n",
       "caploss          1519\n",
       "hoursperweek     9008\n",
       "nativecountry    3391\n",
       "target           7841\n",
       "dtype: int64"
      ]
     },
     "execution_count": 20,
     "metadata": {},
     "output_type": "execute_result"
    }
   ],
   "source": [
    "outlier(cencopy)"
   ]
  },
  {
   "cell_type": "code",
   "execution_count": 21,
   "metadata": {},
   "outputs": [
    {
     "data": {
      "text/plain": [
       "(array([   10,    14,    15, ..., 32525, 32531, 32547], dtype=int64),\n",
       " array([11, 12, 12, ..., 12, 11, 12], dtype=int64))"
      ]
     },
     "execution_count": 21,
     "metadata": {},
     "output_type": "execute_result"
    }
   ],
   "source": [
    "from scipy.stats import zscore\n",
    "z=np.abs(zscore(cencopy))\n",
    "np.where(z>3)"
   ]
  },
  {
   "cell_type": "code",
   "execution_count": 22,
   "metadata": {},
   "outputs": [],
   "source": [
    "# let's make a copy of cencopy\n",
    "cencopy1=cencopy.copy()"
   ]
  },
  {
   "cell_type": "code",
   "execution_count": 23,
   "metadata": {},
   "outputs": [],
   "source": [
    "cencopy1=cencopy1[(z<3).all(axis=1)]"
   ]
  },
  {
   "cell_type": "code",
   "execution_count": 24,
   "metadata": {},
   "outputs": [],
   "source": [
    "xc=cencopy1.drop('target',axis=1)\n",
    "yc=cencopy1['target']"
   ]
  },
  {
   "cell_type": "code",
   "execution_count": 35,
   "metadata": {},
   "outputs": [],
   "source": [
    "from sklearn.linear_model import LogisticRegression\n",
    "from sklearn.tree import DecisionTreeClassifier\n",
    "from sklearn.svm import SVC\n",
    "from sklearn.neighbors import KNeighborsClassifier\n",
    "from sklearn.naive_bayes import GaussianNB, MultinomialNB\n",
    "from sklearn.model_selection import train_test_split\n",
    "from sklearn.metrics import accuracy_score, confusion_matrix, classification_report\n",
    "from sklearn.ensemble import RandomForestClassifier\n",
    "from sklearn.ensemble import GradientBoostingClassifier\n",
    "from xgboost import XGBClassifier\n",
    "from sklearn.ensemble import AdaBoostClassifier\n",
    "from sklearn.model_selection import cross_val_score,cross_val_predict, cross_validate\n",
    "from sklearn.metrics import roc_curve, roc_auc_score"
   ]
  },
  {
   "cell_type": "code",
   "execution_count": 26,
   "metadata": {},
   "outputs": [],
   "source": [
    "# Now, let's define some functions to reuse them\n",
    "def fitc(m,x,y,rs=45):\n",
    "    x_train, x_test, y_train, y_test=train_test_split(x,y,test_size=0.25,random_state=rs,stratify=y)\n",
    "    m.fit(x_train,y_train)\n",
    "    \n",
    "def get_scorec(m,x,y,rs=45):\n",
    "    x_train, x_test, y_train, y_test=train_test_split(x,y,test_size=0.25,random_state=rs,stratify=y)\n",
    "    m.fit(x_train,y_train)\n",
    "    train_score=m.score(x_train,y_train)\n",
    "    pred=m.predict(x_test)\n",
    "    test_score=accuracy_score(pred,y_test)\n",
    "    return train_score,test_score\n",
    "\n",
    "def get_predc(m,x,y,rs=45):\n",
    "    x_train, x_test, y_train, y_test=train_test_split(x,y,test_size=0.25,random_state=rs,stratify=y)\n",
    "    m.fit(x_train,y_train)\n",
    "    pred=m.predict(x_test)\n",
    "    return pred\n",
    "\n",
    "def get_metricsc(m,x,y,rs=45):\n",
    "    x_train, x_test, y_train, y_test=train_test_split(x,y,test_size=0.25,random_state=rs,stratify=y)\n",
    "    m.fit(x_train,y_train)\n",
    "    pred=m.predict(x_test)\n",
    "    acc=accuracy_score(pred,y_test)\n",
    "    conf=confusion_matrix(pred,y_test)\n",
    "    clas=classification_report(pred,y_test)\n",
    "    return acc,conf,clas\n",
    "\n",
    "from sklearn.model_selection import GridSearchCV\n",
    "def gridcvc(m,p,x,y):\n",
    "    gkb=GridSearchCV(m,p,n_jobs=-1,cv=5,scoring='accuracy')\n",
    "    gkb.fit(x,y)\n",
    "    return gkb.best_params_\n",
    "\n",
    "\n",
    "from sklearn.model_selection import RandomizedSearchCV\n",
    "def randomcvc(m,p,x,y):\n",
    "    from sklearn.model_selection import RandomizedSearchCV\n",
    "    gkb=RandomizedSearchCV(estimator=m,param_distributions=p,\n",
    "                          cv=3,n_iter=50,\n",
    "                          n_jobs=-1, verbose=5,return_train_score=True,random_state=45)\n",
    "    gkb.fit(x,y)\n",
    "    return gkb.best_params_\n",
    "\n",
    "from mlxtend.feature_selection import SequentialFeatureSelector as sfs\n",
    "def bfec(m,x,y,k):\n",
    "    sf=sfs(m, k_features=k, forward=False, cv=5, n_jobs=-1)\n",
    "    sf.fit(x,y)\n",
    "    feat_names=list(sf.k_feature_names_)\n",
    "    xbfe=x[feat_names]\n",
    "    return xbfe\n",
    "\n",
    "def ffsc(m,x,y,k):\n",
    "    sf=sfs(m, k_features=k, forward=True, cv=5, n_jobs=-1)\n",
    "    sf.fit(x,y)\n",
    "    feat_names=list(sf.k_feature_names_)\n",
    "    xffs=x[feat_names]\n",
    "    return xffs\n",
    "\n",
    "from sklearn.decomposition import PCA\n",
    "def nforpcac(x):\n",
    "    pca=PCA().fit(x)\n",
    "    plt.figure()\n",
    "    plt.plot(np.cumsum(pca.explained_variance_ratio_)*100)\n",
    "    plt.xlabel('No of Components')\n",
    "    plt.ylabel('Variance')\n",
    "    plt.axhline(y=95, color='r', linestyle='--')\n",
    "    plt.show()\n",
    "    \n",
    "def pcac(m,x,n):\n",
    "    pca=PCA(n_components=n)\n",
    "    xpca=pd.DataFrame(pca.fit_transform(x))\n",
    "    return xpca\n",
    "\n",
    "def crossc(m,x,y,c=5):\n",
    "    score=cross_val_score(m,x,y,cv=c,n_jobs=-1)\n",
    "    return (score.mean(), score.std())\n",
    "\n",
    "from sklearn.preprocessing import StandardScaler\n",
    "def stdc(x):\n",
    "    scx=StandardScaler()\n",
    "    xs=pd.DataFrame(scx.fit_transform(x), columns=x.columns)\n",
    "    return xs\n",
    "\n",
    "from sklearn.preprocessing import MinMaxScaler\n",
    "def mmc(x):\n",
    "    mm=MinMaxScaler()\n",
    "    xm=pd.DataFrame(mm.fit_transform(x), columns=x.columns)\n",
    "    return xm\n",
    "\n",
    "def modified_bfec(m,x,y,k):\n",
    "    sf=sfs(m, k_features=k, forward=False, cv=5, n_jobs=-1)\n",
    "    sf.fit(x,y)\n",
    "    feat_names=list(sf.k_feature_names_)\n",
    "    xbfe=x[feat_names]\n",
    "    x_train, x_test, y_train, y_test=train_test_split(xbfe,y,test_size=0.25,random_state=45,stratify=y)\n",
    "    m.fit(x_train,y_train)\n",
    "    pred=m.predict(x_test)\n",
    "    test_score=accuracy_score(pred,y_test)\n",
    "    return test_score\n",
    "\n",
    "def modified_ffsc(m,x,y,k):\n",
    "    sf=sfs(m, k_features=k, forward=True, cv=5, n_jobs=-1)\n",
    "    sf.fit(x,y)\n",
    "    feat_names=list(sf.k_feature_names_)\n",
    "    xffs=x[feat_names]\n",
    "    x_train, x_test, y_train, y_test=train_test_split(xffs,y,test_size=0.25,random_state=45,stratify=y)\n",
    "    m.fit(x_train,y_train)\n",
    "    pred=m.predict(x_test)\n",
    "    test_score=accuracy_score(pred,y_test)\n",
    "    return test_score\n",
    "\n",
    "def modified_pcac(m,x,y,n):\n",
    "    pca=PCA(n_components=n)\n",
    "    xpca=pd.DataFrame(pca.fit_transform(x))\n",
    "    x_train, x_test, y_train, y_test=train_test_split(xpca,y,test_size=0.25,random_state=45,stratify=y)\n",
    "    m.fit(x_train,y_train)\n",
    "    pred=m.predict(x_test)\n",
    "    test_score=accuracy_score(pred,y_test)\n",
    "    return test_score\n",
    "\n",
    "def ttsc(x,y,rs=45):\n",
    "    x_train, x_test, y_train, y_test=train_test_split(x,y,test_size=0.25,random_state=rs,stratify=y)\n",
    "    return x_train, x_test, y_train, y_test\n",
    "\n",
    "def classification(m,x,y,rs=45):\n",
    "    x_train, x_test, y_train, y_test=train_test_split(x,y,test_size=0.25,random_state=rs,stratify=y)\n",
    "    m.fit(x_train,y_train)\n",
    "    pred=m.predict(x_test)\n",
    "    clas=classification_report(pred,y_test)\n",
    "    return clas"
   ]
  },
  {
   "cell_type": "code",
   "execution_count": 27,
   "metadata": {},
   "outputs": [],
   "source": [
    "lrc=LogisticRegression(n_jobs=-1,random_state=45)\n",
    "dtc=DecisionTreeClassifier(random_state=45)\n",
    "svc=SVC(random_state=45)\n",
    "knnc=KNeighborsClassifier(n_jobs=-1)\n",
    "rfc=RandomForestClassifier(n_jobs=-1,random_state=45)\n",
    "gbc=GradientBoostingClassifier(random_state=45)\n",
    "xgbc=XGBClassifier(n_jobs=-1,random_state=45)\n",
    "adac=AdaBoostClassifier(random_state=45)\n",
    "gnb=GaussianNB()\n",
    "mnb=MultinomialNB()"
   ]
  },
  {
   "cell_type": "code",
   "execution_count": 28,
   "metadata": {},
   "outputs": [
    {
     "data": {
      "text/plain": [
       "(28013, 13)"
      ]
     },
     "execution_count": 28,
     "metadata": {},
     "output_type": "execute_result"
    }
   ],
   "source": [
    "xc.shape"
   ]
  },
  {
   "cell_type": "code",
   "execution_count": 29,
   "metadata": {},
   "outputs": [
    {
     "data": {
      "text/plain": [
       "(28013,)"
      ]
     },
     "execution_count": 29,
     "metadata": {},
     "output_type": "execute_result"
    }
   ],
   "source": [
    "yc.shape"
   ]
  },
  {
   "cell_type": "code",
   "execution_count": 30,
   "metadata": {},
   "outputs": [],
   "source": [
    "# xgb with xc 0.9129038731687739, 0.8615500376222723"
   ]
  },
  {
   "cell_type": "code",
   "execution_count": 31,
   "metadata": {},
   "outputs": [],
   "source": [
    "# Individual Model Pipeline:\n",
    "# 1. feature selection\n",
    "# 2. Hyper parameter tuning\n",
    "# 3. Boosting\n",
    "# 4. Cross Validation\n",
    "# 5. Evaluation Metrics"
   ]
  },
  {
   "cell_type": "code",
   "execution_count": 32,
   "metadata": {},
   "outputs": [],
   "source": [
    "# xgbc=XGBClassifier(n_jobs=-1,random_state=45)"
   ]
  },
  {
   "cell_type": "code",
   "execution_count": 32,
   "metadata": {},
   "outputs": [
    {
     "name": "stdout",
     "output_type": "stream",
     "text": [
      "9   0.8498001142204454\n",
      "10   0.855225585379783\n",
      "11   0.855653912050257\n",
      "12   0.857367218732153\n"
     ]
    }
   ],
   "source": [
    "# lets apply PCA\n",
    "# n from 9 to 13\n",
    "for i in range(9,13):\n",
    "        print(i,\" \",modified_pcac(xgbc,xc,yc,i))"
   ]
  },
  {
   "cell_type": "code",
   "execution_count": 33,
   "metadata": {},
   "outputs": [],
   "source": [
    "# we won't use PCA"
   ]
  },
  {
   "cell_type": "code",
   "execution_count": 34,
   "metadata": {},
   "outputs": [],
   "source": [
    "# lets apply tuning"
   ]
  },
  {
   "cell_type": "code",
   "execution_count": 37,
   "metadata": {},
   "outputs": [],
   "source": [
    "XGBClassifier?"
   ]
  },
  {
   "cell_type": "code",
   "execution_count": 38,
   "metadata": {},
   "outputs": [
    {
     "name": "stdout",
     "output_type": "stream",
     "text": [
      "Fitting 3 folds for each of 48 candidates, totalling 144 fits\n"
     ]
    },
    {
     "name": "stderr",
     "output_type": "stream",
     "text": [
      "[Parallel(n_jobs=-1)]: Using backend LokyBackend with 4 concurrent workers.\n",
      "[Parallel(n_jobs=-1)]: Done  10 tasks      | elapsed:   16.8s\n",
      "[Parallel(n_jobs=-1)]: Done  64 tasks      | elapsed:  1.7min\n",
      "[Parallel(n_jobs=-1)]: Done 144 out of 144 | elapsed:  3.8min finished\n"
     ]
    },
    {
     "data": {
      "text/plain": [
       "{'min_child_weight': 2, 'max_depth': 6, 'learning_rate': 0.1}"
      ]
     },
     "execution_count": 38,
     "metadata": {},
     "output_type": "execute_result"
    }
   ],
   "source": [
    "param_xgb={'max_depth':[2,4,6,8],'learning_rate':[0.01,0.1,1],'min_child_weight':[1,2,4,6]}\n",
    "randomcvc(xgbc,param_xgb,xc,yc)"
   ]
  },
  {
   "cell_type": "code",
   "execution_count": 39,
   "metadata": {},
   "outputs": [
    {
     "name": "stdout",
     "output_type": "stream",
     "text": [
      "Fitting 3 folds for each of 50 candidates, totalling 150 fits\n"
     ]
    },
    {
     "name": "stderr",
     "output_type": "stream",
     "text": [
      "[Parallel(n_jobs=-1)]: Using backend LokyBackend with 4 concurrent workers.\n",
      "[Parallel(n_jobs=-1)]: Done  10 tasks      | elapsed:   25.0s\n",
      "[Parallel(n_jobs=-1)]: Done  64 tasks      | elapsed:  1.8min\n",
      "[Parallel(n_jobs=-1)]: Done 150 out of 150 | elapsed:  4.2min finished\n"
     ]
    },
    {
     "data": {
      "text/plain": [
       "{'min_child_weight': 3, 'max_depth': 6, 'learning_rate': 0.1}"
      ]
     },
     "execution_count": 39,
     "metadata": {},
     "output_type": "execute_result"
    }
   ],
   "source": [
    "param_xgb1={'max_depth':[4,5,6,7,8],'learning_rate':[0.05,0.1,0.2,0.4],'min_child_weight':[1,2,3]}\n",
    "randomcvc(xgbc,param_xgb1,xc,yc)"
   ]
  },
  {
   "cell_type": "code",
   "execution_count": 33,
   "metadata": {},
   "outputs": [],
   "source": [
    "xgbc1=XGBClassifier(n_jobs=-1,random_state=45,min_child_weight=3, max_depth= 6, learning_rate= 0.1)"
   ]
  },
  {
   "cell_type": "code",
   "execution_count": 41,
   "metadata": {},
   "outputs": [
    {
     "data": {
      "text/plain": [
       "(0.8827169308391641, 0.8627926898914906)"
      ]
     },
     "execution_count": 41,
     "metadata": {},
     "output_type": "execute_result"
    }
   ],
   "source": [
    "get_scorec(xgbc1,xc,yc)"
   ]
  },
  {
   "cell_type": "code",
   "execution_count": 42,
   "metadata": {},
   "outputs": [],
   "source": [
    "# the score improved a little"
   ]
  },
  {
   "cell_type": "code",
   "execution_count": 43,
   "metadata": {},
   "outputs": [
    {
     "data": {
      "text/plain": [
       "(0.8662051549244637, 0.0057749710719799275)"
      ]
     },
     "execution_count": 43,
     "metadata": {},
     "output_type": "execute_result"
    }
   ],
   "source": [
    "# lets cross validate it\n",
    "crossc(xgbc1,xc,yc)"
   ]
  },
  {
   "cell_type": "code",
   "execution_count": 44,
   "metadata": {},
   "outputs": [
    {
     "name": "stdout",
     "output_type": "stream",
     "text": [
      "(0.8659908329774586, 0.0029247136095750114)\n",
      "(0.864741561970708, 0.004400193356904525)\n",
      "(0.8662051549244637, 0.0057749710719799275)\n",
      "(0.8660263683190844, 0.005704133829834493)\n",
      "(0.8662769558370346, 0.005177408027216753)\n",
      "(0.8657773934392514, 0.006073782623371257)\n",
      "(0.8667769174293087, 0.006491468347698628)\n",
      "(0.8665265675465802, 0.006264117824902675)\n",
      "(0.8655989271675288, 0.006278592202279568)\n"
     ]
    }
   ],
   "source": [
    "# lets use a for loop \n",
    "for i in range(3,12):\n",
    "    print(crossc(xgbc1,xc,yc,i))"
   ]
  },
  {
   "cell_type": "code",
   "execution_count": 45,
   "metadata": {},
   "outputs": [],
   "source": [
    "# best score at cv=9"
   ]
  },
  {
   "cell_type": "code",
   "execution_count": 46,
   "metadata": {},
   "outputs": [],
   "source": [
    "# the score improved"
   ]
  },
  {
   "cell_type": "code",
   "execution_count": 48,
   "metadata": {},
   "outputs": [],
   "source": [
    "# lets predict the score\n",
    "crosspred=cross_val_predict(xgbc1,xc,yc)"
   ]
  },
  {
   "cell_type": "code",
   "execution_count": 53,
   "metadata": {},
   "outputs": [],
   "source": [
    "# lets get the metrics"
   ]
  },
  {
   "cell_type": "code",
   "execution_count": 54,
   "metadata": {},
   "outputs": [
    {
     "name": "stdout",
     "output_type": "stream",
     "text": [
      "0.8659907899903616\n",
      " \n",
      "[[20660  1168]\n",
      " [ 2586  3599]]\n",
      " \n",
      "              precision    recall  f1-score   support\n",
      "\n",
      "           0       0.89      0.95      0.92     21828\n",
      "           1       0.75      0.58      0.66      6185\n",
      "\n",
      "    accuracy                           0.87     28013\n",
      "   macro avg       0.82      0.76      0.79     28013\n",
      "weighted avg       0.86      0.87      0.86     28013\n",
      "\n"
     ]
    }
   ],
   "source": [
    "classi=classification_report(yc,crosspred)\n",
    "conf=confusion_matrix(yc,crosspred)\n",
    "acc=accuracy_score(yc,crosspred)\n",
    "print(acc)\n",
    "print(' ')\n",
    "print(conf)\n",
    "print(' ')\n",
    "print(classi)"
   ]
  },
  {
   "cell_type": "code",
   "execution_count": 56,
   "metadata": {},
   "outputs": [
    {
     "name": "stdout",
     "output_type": "stream",
     "text": [
      "0.8627926898914906\n",
      " \n",
      "[[5152  655]\n",
      " [ 306  891]]\n",
      " \n",
      "              precision    recall  f1-score   support\n",
      "\n",
      "           0       0.94      0.89      0.91      5807\n",
      "           1       0.58      0.74      0.65      1197\n",
      "\n",
      "    accuracy                           0.86      7004\n",
      "   macro avg       0.76      0.82      0.78      7004\n",
      "weighted avg       0.88      0.86      0.87      7004\n",
      "\n"
     ]
    }
   ],
   "source": [
    "# lets check metrics of xgbc1,xc,yc\n",
    "# Evaluation metrics\n",
    "acc, conf, clas=get_metricsc(xgbc1,xc,yc)\n",
    "print(acc)\n",
    "print(' ')\n",
    "print(conf)\n",
    "print(' ')\n",
    "print(clas)"
   ]
  },
  {
   "cell_type": "code",
   "execution_count": 58,
   "metadata": {},
   "outputs": [
    {
     "name": "stdout",
     "output_type": "stream",
     "text": [
      "(XGBClassifier(base_score=0.5, booster=None, colsample_bylevel=1,\n",
      "              colsample_bynode=1, colsample_bytree=1, gamma=0, gpu_id=-1,\n",
      "              importance_type='gain', interaction_constraints=None,\n",
      "              learning_rate=0.300000012, max_delta_step=0, max_depth=6,\n",
      "              min_child_weight=1, missing=nan, monotone_constraints=None,\n",
      "              n_estimators=100, n_jobs=-1, num_parallel_tree=1,\n",
      "              objective='binary:logistic', random_state=45, reg_alpha=0,\n",
      "              reg_lambda=1, scale_pos_weight=1, subsample=1, tree_method=None,\n",
      "              validate_parameters=False, verbosity=None), XGBClassifier(base_score=0.5, booster=None, colsample_bylevel=1,\n",
      "              colsample_bynode=1, colsample_bytree=1, gamma=0, gpu_id=-1,\n",
      "              importance_type='gain', interaction_constraints=None,\n",
      "              learning_rate=0.300000012, max_delta_step=0, max_depth=6,\n",
      "              min_child_weight=1, missing=nan, monotone_constraints=None,\n",
      "              n_estimators=100, n_jobs=-1, num_parallel_tree=1,\n",
      "              objective='binary:logistic', random_state=45, reg_alpha=0,\n",
      "              reg_lambda=1, scale_pos_weight=1, subsample=1, tree_method=None,\n",
      "              validate_parameters=False, verbosity=None), XGBClassifier(base_score=0.5, booster=None, colsample_bylevel=1,\n",
      "              colsample_bynode=1, colsample_bytree=1, gamma=0, gpu_id=-1,\n",
      "              importance_type='gain', interaction_constraints=None,\n",
      "              learning_rate=0.300000012, max_delta_step=0, max_depth=6,\n",
      "              min_child_weight=1, missing=nan, monotone_constraints=None,\n",
      "              n_estimators=100, n_jobs=-1, num_parallel_tree=1,\n",
      "              objective='binary:logistic', random_state=45, reg_alpha=0,\n",
      "              reg_lambda=1, scale_pos_weight=1, subsample=1, tree_method=None,\n",
      "              validate_parameters=False, verbosity=None), XGBClassifier(base_score=0.5, booster=None, colsample_bylevel=1,\n",
      "              colsample_bynode=1, colsample_bytree=1, gamma=0, gpu_id=-1,\n",
      "              importance_type='gain', interaction_constraints=None,\n",
      "              learning_rate=0.300000012, max_delta_step=0, max_depth=6,\n",
      "              min_child_weight=1, missing=nan, monotone_constraints=None,\n",
      "              n_estimators=100, n_jobs=-1, num_parallel_tree=1,\n",
      "              objective='binary:logistic', random_state=45, reg_alpha=0,\n",
      "              reg_lambda=1, scale_pos_weight=1, subsample=1, tree_method=None,\n",
      "              validate_parameters=False, verbosity=None), XGBClassifier(base_score=0.5, booster=None, colsample_bylevel=1,\n",
      "              colsample_bynode=1, colsample_bytree=1, gamma=0, gpu_id=-1,\n",
      "              importance_type='gain', interaction_constraints=None,\n",
      "              learning_rate=0.300000012, max_delta_step=0, max_depth=6,\n",
      "              min_child_weight=1, missing=nan, monotone_constraints=None,\n",
      "              n_estimators=100, n_jobs=-1, num_parallel_tree=1,\n",
      "              objective='binary:logistic', random_state=45, reg_alpha=0,\n",
      "              reg_lambda=1, scale_pos_weight=1, subsample=1, tree_method=None,\n",
      "              validate_parameters=False, verbosity=None), XGBClassifier(base_score=0.5, booster=None, colsample_bylevel=1,\n",
      "              colsample_bynode=1, colsample_bytree=1, gamma=0, gpu_id=-1,\n",
      "              importance_type='gain', interaction_constraints=None,\n",
      "              learning_rate=0.300000012, max_delta_step=0, max_depth=6,\n",
      "              min_child_weight=1, missing=nan, monotone_constraints=None,\n",
      "              n_estimators=100, n_jobs=-1, num_parallel_tree=1,\n",
      "              objective='binary:logistic', random_state=45, reg_alpha=0,\n",
      "              reg_lambda=1, scale_pos_weight=1, subsample=1, tree_method=None,\n",
      "              validate_parameters=False, verbosity=None), XGBClassifier(base_score=0.5, booster=None, colsample_bylevel=1,\n",
      "              colsample_bynode=1, colsample_bytree=1, gamma=0, gpu_id=-1,\n",
      "              importance_type='gain', interaction_constraints=None,\n",
      "              learning_rate=0.300000012, max_delta_step=0, max_depth=6,\n",
      "              min_child_weight=1, missing=nan, monotone_constraints=None,\n",
      "              n_estimators=100, n_jobs=-1, num_parallel_tree=1,\n",
      "              objective='binary:logistic', random_state=45, reg_alpha=0,\n",
      "              reg_lambda=1, scale_pos_weight=1, subsample=1, tree_method=None,\n",
      "              validate_parameters=False, verbosity=None), XGBClassifier(base_score=0.5, booster=None, colsample_bylevel=1,\n",
      "              colsample_bynode=1, colsample_bytree=1, gamma=0, gpu_id=-1,\n",
      "              importance_type='gain', interaction_constraints=None,\n",
      "              learning_rate=0.300000012, max_delta_step=0, max_depth=6,\n",
      "              min_child_weight=1, missing=nan, monotone_constraints=None,\n",
      "              n_estimators=100, n_jobs=-1, num_parallel_tree=1,\n",
      "              objective='binary:logistic', random_state=45, reg_alpha=0,\n",
      "              reg_lambda=1, scale_pos_weight=1, subsample=1, tree_method=None,\n",
      "              validate_parameters=False, verbosity=None), XGBClassifier(base_score=0.5, booster=None, colsample_bylevel=1,\n",
      "              colsample_bynode=1, colsample_bytree=1, gamma=0, gpu_id=-1,\n",
      "              importance_type='gain', interaction_constraints=None,\n",
      "              learning_rate=0.300000012, max_delta_step=0, max_depth=6,\n",
      "              min_child_weight=1, missing=nan, monotone_constraints=None,\n",
      "              n_estimators=100, n_jobs=-1, num_parallel_tree=1,\n",
      "              objective='binary:logistic', random_state=45, reg_alpha=0,\n",
      "              reg_lambda=1, scale_pos_weight=1, subsample=1, tree_method=None,\n",
      "              validate_parameters=False, verbosity=None))\n"
     ]
    }
   ],
   "source": [
    "# lets save the cross validated model\n",
    "cv_results = cross_validate(xgbc, xc ,yc, cv=9, return_estimator=True)\n",
    "xgbc_fit = cv_results['estimator']\n",
    "print(xgbc_fit)"
   ]
  },
  {
   "cell_type": "code",
   "execution_count": 59,
   "metadata": {},
   "outputs": [],
   "source": [
    "xgbc_fit=xgbc_fit[0]"
   ]
  },
  {
   "cell_type": "code",
   "execution_count": 60,
   "metadata": {},
   "outputs": [
    {
     "data": {
      "text/plain": [
       "['xgbc_cencus.pkl']"
      ]
     },
     "execution_count": 60,
     "metadata": {},
     "output_type": "execute_result"
    }
   ],
   "source": [
    "import joblib\n",
    "joblib.dump(xgbc_fit,'xgbc_cencus.pkl')"
   ]
  },
  {
   "cell_type": "code",
   "execution_count": 61,
   "metadata": {},
   "outputs": [],
   "source": [
    "# saving predictions\n",
    "prediction=pd.DataFrame(crosspred)\n",
    "prediction.to_csv('prediction_cencus.csv')"
   ]
  },
  {
   "cell_type": "code",
   "execution_count": 36,
   "metadata": {},
   "outputs": [
    {
     "data": {
      "image/png": "[encoded data removed]",
      "text/plain": [
       "<Figure size 432x288 with 1 Axes>"
      ]
     },
     "metadata": {
      "needs_background": "light"
     },
     "output_type": "display_data"
    }
   ],
   "source": [
    "# auc_roc\n",
    "xtr,xte,ytr,yte=ttsc(xc,yc)\n",
    "xgbc1.fit(xtr,ytr)\n",
    "y_pred_pro=xgbc1.predict_proba(xte)[:,1]\n",
    "fpr,tpr,threshold=roc_curve(yte,y_pred_pro)\n",
    "plt.plot([0,1], [0,1], 'k--')\n",
    "plt.plot(fpr,tpr,label='LRC')\n",
    "plt.show()"
   ]
  },
  {
   "cell_type": "code",
   "execution_count": 37,
   "metadata": {},
   "outputs": [
    {
     "data": {
      "text/plain": [
       "0.9137579834625651"
      ]
     },
     "execution_count": 37,
     "metadata": {},
     "output_type": "execute_result"
    }
   ],
   "source": [
    "roc_auc_score(yte,y_pred_pro)"
   ]
  },
  {
   "cell_type": "code",
   "execution_count": null,
   "metadata": {},
   "outputs": [],
   "source": []
  }
 ],
 "metadata": {
  "kernelspec": {
   "display_name": "Python 3",
   "language": "python",
   "name": "python3"
  },
  "language_info": {
   "codemirror_mode": {
    "name": "ipython",
    "version": 3
   },
   "file_extension": ".py",
   "mimetype": "text/x-python",
   "name": "python",
   "nbconvert_exporter": "python",
   "pygments_lexer": "ipython3",
   "version": "3.7.4"
  }
 },
 "nbformat": 4,
 "nbformat_minor": 2
}
